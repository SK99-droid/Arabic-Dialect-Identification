{
 "cells": [
  {
   "cell_type": "code",
   "execution_count": 1,
   "metadata": {},
   "outputs": [
    {
     "data": {
      "text/html": [
       "<div>\n",
       "<style scoped>\n",
       "    .dataframe tbody tr th:only-of-type {\n",
       "        vertical-align: middle;\n",
       "    }\n",
       "\n",
       "    .dataframe tbody tr th {\n",
       "        vertical-align: top;\n",
       "    }\n",
       "\n",
       "    .dataframe thead th {\n",
       "        text-align: right;\n",
       "    }\n",
       "</style>\n",
       "<table border=\"1\" class=\"dataframe\">\n",
       "  <thead>\n",
       "    <tr style=\"text-align: right;\">\n",
       "      <th></th>\n",
       "      <th>Arabic_Tweets_Cleaned</th>\n",
       "      <th>labels_new</th>\n",
       "    </tr>\n",
       "  </thead>\n",
       "  <tbody>\n",
       "    <tr>\n",
       "      <td>0</td>\n",
       "      <td>اضافه قيام معلمو جيزه ذهاب جريد سابع نشر خبر ا...</td>\n",
       "      <td>MSA</td>\n",
       "    </tr>\n",
       "    <tr>\n",
       "      <td>1</td>\n",
       "      <td>بعد الله حرام تجي تلقي واقف اشاره عرض متعدي نا...</td>\n",
       "      <td>MSA</td>\n",
       "    </tr>\n",
       "    <tr>\n",
       "      <td>2</td>\n",
       "      <td>لمس يد مرة واضح جد حكم</td>\n",
       "      <td>DIAL_LEV</td>\n",
       "    </tr>\n",
       "    <tr>\n",
       "      <td>3</td>\n",
       "      <td>خصوص هاتريك عمر راح صار</td>\n",
       "      <td>DIAL_LEV</td>\n",
       "    </tr>\n",
       "    <tr>\n",
       "      <td>4</td>\n",
       "      <td>الله أجبر كسر رجع أدهم قبل بكر</td>\n",
       "      <td>DIAL_GLF</td>\n",
       "    </tr>\n",
       "    <tr>\n",
       "      <td>...</td>\n",
       "      <td>...</td>\n",
       "      <td>...</td>\n",
       "    </tr>\n",
       "    <tr>\n",
       "      <td>85278</td>\n",
       "      <td>بورسعيد حكاية</td>\n",
       "      <td>DIAL_LEV</td>\n",
       "    </tr>\n",
       "    <tr>\n",
       "      <td>85279</td>\n",
       "      <td>نعم لبس زي رسمي سعودي نظر علي اعين</td>\n",
       "      <td>MSA</td>\n",
       "    </tr>\n",
       "    <tr>\n",
       "      <td>85280</td>\n",
       "      <td>اتوقع الله اعلم قصد بقي شعب مسافر شل عد لا كلام</td>\n",
       "      <td>DIAL_GLF</td>\n",
       "    </tr>\n",
       "    <tr>\n",
       "      <td>85281</td>\n",
       "      <td>يتبدا</td>\n",
       "      <td>DIAL_EGY</td>\n",
       "    </tr>\n",
       "    <tr>\n",
       "      <td>85282</td>\n",
       "      <td>عامر ذيب شد حيلة عامر هناك تراجع مستواك حركة ا...</td>\n",
       "      <td>DIAL_LEV</td>\n",
       "    </tr>\n",
       "  </tbody>\n",
       "</table>\n",
       "<p>85283 rows × 2 columns</p>\n",
       "</div>"
      ],
      "text/plain": [
       "                                   Arabic_Tweets_Cleaned labels_new\n",
       "0      اضافه قيام معلمو جيزه ذهاب جريد سابع نشر خبر ا...        MSA\n",
       "1      بعد الله حرام تجي تلقي واقف اشاره عرض متعدي نا...        MSA\n",
       "2                                 لمس يد مرة واضح جد حكم   DIAL_LEV\n",
       "3                                خصوص هاتريك عمر راح صار   DIAL_LEV\n",
       "4                         الله أجبر كسر رجع أدهم قبل بكر   DIAL_GLF\n",
       "...                                                  ...        ...\n",
       "85278                                      بورسعيد حكاية   DIAL_LEV\n",
       "85279                 نعم لبس زي رسمي سعودي نظر علي اعين        MSA\n",
       "85280    اتوقع الله اعلم قصد بقي شعب مسافر شل عد لا كلام   DIAL_GLF\n",
       "85281                                              يتبدا   DIAL_EGY\n",
       "85282  عامر ذيب شد حيلة عامر هناك تراجع مستواك حركة ا...   DIAL_LEV\n",
       "\n",
       "[85283 rows x 2 columns]"
      ]
     },
     "execution_count": 1,
     "metadata": {},
     "output_type": "execute_result"
    }
   ],
   "source": [
    "import pandas as pd\n",
    "\n",
    "file_path = r'C:\\Users\\Salma\\Downloads\\Arabic_Preprocissing_data-main\\Arabic_Preprocissing_data-main\\All_Data_Cleaned.csv'\n",
    "data =pd.read_csv(file_path)\n",
    "data"
   ]
  },
  {
   "cell_type": "code",
   "execution_count": 2,
   "metadata": {},
   "outputs": [],
   "source": [
    "text = data['Arabic_Tweets_Cleaned'].values.tolist()\n",
    "target = data['labels_new'].values.tolist()"
   ]
  },
  {
   "cell_type": "code",
   "execution_count": 3,
   "metadata": {},
   "outputs": [],
   "source": [
    "from sklearn.model_selection import train_test_split\n",
    "X_train, X_test, y_train, y_test = train_test_split(text,target,test_size=0.2, shuffle = True,  random_state=42)\n"
   ]
  },
  {
   "cell_type": "code",
   "execution_count": 4,
   "metadata": {},
   "outputs": [],
   "source": [
    "from sklearn.feature_extraction.text import CountVectorizer\n",
    "from sklearn.feature_extraction.text import TfidfTransformer\n",
    "\n",
    "count_vect = CountVectorizer() \n",
    "X_train_counts = count_vect.fit_transform(X_train) \n",
    "tfidf_transformer = TfidfTransformer()\n",
    "X_tfidf_train = tfidf_transformer.fit_transform(X_train_counts)\n",
    "X_test_counts = count_vect.transform(X_test) \n",
    "X_tfidf_test = tfidf_transformer.transform(X_test_counts)"
   ]
  },
  {
   "cell_type": "code",
   "execution_count": 14,
   "metadata": {},
   "outputs": [],
   "source": [
    "from imblearn.under_sampling import NearMiss\n",
    "undersample = NearMiss(version=1, n_neighbors=3)\n",
    "# transform the dataset\n",
    "X, Y = undersample.fit_resample(X_tfidf_train, y_train)"
   ]
  },
  {
   "cell_type": "code",
   "execution_count": 8,
   "metadata": {},
   "outputs": [
    {
     "data": {
      "text/plain": [
       "(23896, 28394)"
      ]
     },
     "execution_count": 8,
     "metadata": {},
     "output_type": "execute_result"
    }
   ],
   "source": [
    "X_tfidf_train.shape"
   ]
  },
  {
   "cell_type": "code",
   "execution_count": 9,
   "metadata": {},
   "outputs": [
    {
     "data": {
      "text/plain": [
       "(5975, 28394)"
      ]
     },
     "execution_count": 9,
     "metadata": {},
     "output_type": "execute_result"
    }
   ],
   "source": [
    "X_tfidf_test.shape"
   ]
  },
  {
   "cell_type": "code",
   "execution_count": null,
   "metadata": {},
   "outputs": [],
   "source": [
    "# Multinomial Naive Bayes classifier"
   ]
  },
  {
   "cell_type": "code",
   "execution_count": 5,
   "metadata": {},
   "outputs": [],
   "source": [
    "from sklearn.naive_bayes import MultinomialNB\n",
    "clf = MultinomialNB().fit(X_tfidf_train, y_train)"
   ]
  },
  {
   "cell_type": "code",
   "execution_count": 6,
   "metadata": {},
   "outputs": [
    {
     "name": "stdout",
     "output_type": "stream",
     "text": [
      "Accuracy with Multinomial Naive Bayes: 68.546638\n"
     ]
    }
   ],
   "source": [
    "import numpy as np\n",
    "from sklearn.metrics import accuracy_score\n",
    "predicted = clf.predict(X_tfidf_test)\n",
    "\n",
    "precision = accuracy_score(predicted, y_test) * 100\n",
    "print(\"Accuracy with Multinomial Naive Bayes: {0:.6f}\".format(precision))"
   ]
  },
  {
   "cell_type": "code",
   "execution_count": 7,
   "metadata": {},
   "outputs": [
    {
     "name": "stdout",
     "output_type": "stream",
     "text": [
      "[[ 594   57   10 1368]\n",
      " [   9  930   12 2359]\n",
      " [  17   92  325 1354]\n",
      " [   5   78    4 9843]]\n"
     ]
    }
   ],
   "source": [
    "from sklearn.metrics import confusion_matrix\n",
    "\n",
    "print(confusion_matrix(y_test, predicted))"
   ]
  },
  {
   "cell_type": "code",
   "execution_count": 8,
   "metadata": {},
   "outputs": [
    {
     "name": "stdout",
     "output_type": "stream",
     "text": [
      "              precision    recall  f1-score   support\n",
      "\n",
      "    DIAL_EGY       0.95      0.29      0.45      2029\n",
      "    DIAL_GLF       0.80      0.28      0.42      3310\n",
      "    DIAL_LEV       0.93      0.18      0.30      1788\n",
      "         MSA       0.66      0.99      0.79      9930\n",
      "\n",
      "    accuracy                           0.69     17057\n",
      "   macro avg       0.83      0.44      0.49     17057\n",
      "weighted avg       0.75      0.69      0.63     17057\n",
      "\n"
     ]
    }
   ],
   "source": [
    "from sklearn.metrics import classification_report\n",
    "\n",
    "print(classification_report(y_test,predicted))\n"
   ]
  },
  {
   "cell_type": "code",
   "execution_count": 18,
   "metadata": {},
   "outputs": [],
   "source": [
    "import pickle \n",
    "  \n",
    "saved_MNB_model = pickle.dumps(clf) \n",
    "  \n",
    "# Load the pickled model \n",
    "MNB_from_pickle = pickle.loads(saved_MNB_model) \n",
    "  \n"
   ]
  },
  {
   "cell_type": "code",
   "execution_count": null,
   "metadata": {},
   "outputs": [],
   "source": [
    "# SVM Classifier"
   ]
  },
  {
   "cell_type": "code",
   "execution_count": 9,
   "metadata": {},
   "outputs": [],
   "source": [
    "from sklearn import svm\n",
    "svm_clf = svm.SVC()\n",
    "svm_clf = svm_clf.fit(X_tfidf_train, y_train)"
   ]
  },
  {
   "cell_type": "code",
   "execution_count": 11,
   "metadata": {},
   "outputs": [],
   "source": [
    "test_predictions = svm_clf.predict(X_tfidf_test)"
   ]
  },
  {
   "cell_type": "code",
   "execution_count": 12,
   "metadata": {},
   "outputs": [
    {
     "name": "stdout",
     "output_type": "stream",
     "text": [
      "Accuracy with SVM: 78.114557\n"
     ]
    }
   ],
   "source": [
    "import numpy as np\n",
    "from sklearn.metrics import accuracy_score\n",
    "precision = accuracy_score(test_predictions, y_test) * 100\n",
    "print(\"Accuracy with SVM: {0:.6f}\".format(precision))"
   ]
  },
  {
   "cell_type": "code",
   "execution_count": 13,
   "metadata": {},
   "outputs": [
    {
     "name": "stdout",
     "output_type": "stream",
     "text": [
      "              precision    recall  f1-score   support\n",
      "\n",
      "    DIAL_EGY       0.87      0.58      0.69      2029\n",
      "    DIAL_GLF       0.76      0.53      0.62      3310\n",
      "    DIAL_LEV       0.87      0.47      0.61      1788\n",
      "         MSA       0.77      0.96      0.86      9930\n",
      "\n",
      "    accuracy                           0.78     17057\n",
      "   macro avg       0.82      0.63      0.70     17057\n",
      "weighted avg       0.79      0.78      0.76     17057\n",
      "\n"
     ]
    }
   ],
   "source": [
    "from sklearn.metrics import classification_report\n",
    "print(classification_report(y_test,test_predictions))"
   ]
  },
  {
   "cell_type": "code",
   "execution_count": 17,
   "metadata": {},
   "outputs": [],
   "source": [
    "saved_SVM_model = pickle.dumps(svm_clf) \n",
    "  \n",
    "# Load the pickled model \n",
    "SVM_from_pickle = pickle.loads(saved_SVM_model) "
   ]
  },
  {
   "cell_type": "code",
   "execution_count": 24,
   "metadata": {},
   "outputs": [
    {
     "data": {
      "text/plain": [
       "array(['MSA'], dtype='<U8')"
      ]
     },
     "execution_count": 24,
     "metadata": {},
     "output_type": "execute_result"
    }
   ],
   "source": [
    "sentence = ['كيف حالك']\n",
    "X_testing_counts = count_vect.transform(sentence) \n",
    "X_tfidf_testing = tfidf_transformer.transform(X_testing_counts)\n",
    "\n",
    "SVM_from_pickle.predict(X_tfidf_testing)"
   ]
  }
 ],
 "metadata": {
  "kernelspec": {
   "display_name": "Python 3",
   "language": "python",
   "name": "python3"
  },
  "language_info": {
   "codemirror_mode": {
    "name": "ipython",
    "version": 3
   },
   "file_extension": ".py",
   "mimetype": "text/x-python",
   "name": "python",
   "nbconvert_exporter": "python",
   "pygments_lexer": "ipython3",
   "version": "3.7.4"
  }
 },
 "nbformat": 4,
 "nbformat_minor": 2
}
