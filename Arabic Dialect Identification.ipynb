{
 "cells": [
  {
   "cell_type": "code",
   "execution_count": 1,
   "metadata": {},
   "outputs": [
    {
     "data": {
      "text/html": [
       "<div>\n",
       "<style scoped>\n",
       "    .dataframe tbody tr th:only-of-type {\n",
       "        vertical-align: middle;\n",
       "    }\n",
       "\n",
       "    .dataframe tbody tr th {\n",
       "        vertical-align: top;\n",
       "    }\n",
       "\n",
       "    .dataframe thead th {\n",
       "        text-align: right;\n",
       "    }\n",
       "</style>\n",
       "<table border=\"1\" class=\"dataframe\">\n",
       "  <thead>\n",
       "    <tr style=\"text-align: right;\">\n",
       "      <th></th>\n",
       "      <th>Unnamed: 0</th>\n",
       "      <th>Unnamed: 0.1</th>\n",
       "      <th>Arabic_Tweets_Cleaned</th>\n",
       "      <th>label</th>\n",
       "    </tr>\n",
       "  </thead>\n",
       "  <tbody>\n",
       "    <tr>\n",
       "      <td>0</td>\n",
       "      <td>0</td>\n",
       "      <td>0</td>\n",
       "      <td>اضافه قيام معلمو جيزه ذهاب جريد سابع نشر خبر ا...</td>\n",
       "      <td>MSA</td>\n",
       "    </tr>\n",
       "    <tr>\n",
       "      <td>1</td>\n",
       "      <td>1</td>\n",
       "      <td>0</td>\n",
       "      <td>بركه زار خدم مدنيه زار تربيه تعليم خريج خريج خ...</td>\n",
       "      <td>MSA</td>\n",
       "    </tr>\n",
       "    <tr>\n",
       "      <td>2</td>\n",
       "      <td>2</td>\n",
       "      <td>0</td>\n",
       "      <td>شكر</td>\n",
       "      <td>MSA</td>\n",
       "    </tr>\n",
       "    <tr>\n",
       "      <td>3</td>\n",
       "      <td>3</td>\n",
       "      <td>0</td>\n",
       "      <td>مبرووك لكن خلي صاحب مركز رابع عشر لعب صاحب مرك...</td>\n",
       "      <td>MSA</td>\n",
       "    </tr>\n",
       "    <tr>\n",
       "      <td>4</td>\n",
       "      <td>4</td>\n",
       "      <td>0</td>\n",
       "      <td>راح وصل ماء ابدا لو حطو ماسور خمسون انش لانهاش...</td>\n",
       "      <td>MSA</td>\n",
       "    </tr>\n",
       "    <tr>\n",
       "      <td>...</td>\n",
       "      <td>...</td>\n",
       "      <td>...</td>\n",
       "      <td>...</td>\n",
       "      <td>...</td>\n",
       "    </tr>\n",
       "    <tr>\n",
       "      <td>29866</td>\n",
       "      <td>29995</td>\n",
       "      <td>5999</td>\n",
       "      <td>صاير ثقيل دم معكوس راح</td>\n",
       "      <td>MSA</td>\n",
       "    </tr>\n",
       "    <tr>\n",
       "      <td>29867</td>\n",
       "      <td>29996</td>\n",
       "      <td>5999</td>\n",
       "      <td>انو مجتمع اردني اكثر مجتمع عربيه تعليم وعي ثقا...</td>\n",
       "      <td>MSA</td>\n",
       "    </tr>\n",
       "    <tr>\n",
       "      <td>29868</td>\n",
       "      <td>29997</td>\n",
       "      <td>5999</td>\n",
       "      <td>صانع بطاله هم عامل وافده متي تنفس بلد</td>\n",
       "      <td>MSA</td>\n",
       "    </tr>\n",
       "    <tr>\n",
       "      <td>29869</td>\n",
       "      <td>29998</td>\n",
       "      <td>5999</td>\n",
       "      <td>اما رقم ابراهيم مصري تحدث قاعد امريكي جزاءر مك...</td>\n",
       "      <td>MSA</td>\n",
       "    </tr>\n",
       "    <tr>\n",
       "      <td>29870</td>\n",
       "      <td>29999</td>\n",
       "      <td>5999</td>\n",
       "      <td>امطار ماشاء الله اكثر</td>\n",
       "      <td>MSA</td>\n",
       "    </tr>\n",
       "  </tbody>\n",
       "</table>\n",
       "<p>29871 rows × 4 columns</p>\n",
       "</div>"
      ],
      "text/plain": [
       "       Unnamed: 0  Unnamed: 0.1  \\\n",
       "0               0             0   \n",
       "1               1             0   \n",
       "2               2             0   \n",
       "3               3             0   \n",
       "4               4             0   \n",
       "...           ...           ...   \n",
       "29866       29995          5999   \n",
       "29867       29996          5999   \n",
       "29868       29997          5999   \n",
       "29869       29998          5999   \n",
       "29870       29999          5999   \n",
       "\n",
       "                                   Arabic_Tweets_Cleaned label  \n",
       "0      اضافه قيام معلمو جيزه ذهاب جريد سابع نشر خبر ا...   MSA  \n",
       "1      بركه زار خدم مدنيه زار تربيه تعليم خريج خريج خ...   MSA  \n",
       "2                                                    شكر   MSA  \n",
       "3      مبرووك لكن خلي صاحب مركز رابع عشر لعب صاحب مرك...   MSA  \n",
       "4      راح وصل ماء ابدا لو حطو ماسور خمسون انش لانهاش...   MSA  \n",
       "...                                                  ...   ...  \n",
       "29866                             صاير ثقيل دم معكوس راح   MSA  \n",
       "29867  انو مجتمع اردني اكثر مجتمع عربيه تعليم وعي ثقا...   MSA  \n",
       "29868              صانع بطاله هم عامل وافده متي تنفس بلد   MSA  \n",
       "29869  اما رقم ابراهيم مصري تحدث قاعد امريكي جزاءر مك...   MSA  \n",
       "29870                              امطار ماشاء الله اكثر   MSA  \n",
       "\n",
       "[29871 rows x 4 columns]"
      ]
     },
     "execution_count": 1,
     "metadata": {},
     "output_type": "execute_result"
    }
   ],
   "source": [
    "import pandas as pd\n",
    "\n",
    "file_path = r'C:\\Users\\Salma\\Downloads\\Arabic_Preprocissing_data-main\\Arabic_Preprocissing_data-main\\FinishedDataset.csv'\n",
    "data =pd.read_csv(file_path)\n",
    "data"
   ]
  },
  {
   "cell_type": "code",
   "execution_count": 2,
   "metadata": {},
   "outputs": [],
   "source": [
    "text = data['Arabic_Tweets_Cleaned'].values.tolist()\n",
    "target = data['label'].values.tolist()"
   ]
  },
  {
   "cell_type": "code",
   "execution_count": 3,
   "metadata": {},
   "outputs": [
    {
     "name": "stdout",
     "output_type": "stream",
     "text": [
      "['اضافه قيام معلمو جيزه ذهاب جريد سابع نشر خبر اتي عام', 'بركه زار خدم مدنيه زار تربيه تعليم خريج خريج خدم اجتماعيه لا وظيف اوموظفين مسمى وظيفي اخري واحد من', 'شكر', 'مبرووك لكن خلي صاحب مركز رابع عشر لعب صاحب مركز سادس عشر خلا نشوف', 'راح وصل ماء ابدا لو حطو ماسور خمسون انش لانهاشبار ماسورة قبل موظف فتح ناس أغلق ناس اسبوع ماضي خميس لم نزل قطر ماء واحد ساعي ماء جاء مراقب ماء عادة مثل حم عروس لا أقبل كان شو اج نهاي دوام مسلسل سلط ماء حي مسجد ابو بكر صديق مابعرف شو راح مسلسل لدى سلط رمضان', 'بعد الله حرام تجي تلقي واقف اشاره عرض متعدي ناس خط مشاه مصيبه واقف قدام رجل مرور لكن لا كان', 'شرط خدم', 'توفيق زعيم مشكوور شبيه ريح ومشكوور خالد بلط جدار شا الله نهاءي سعودي', 'عشان مقيم أيقظ', 'موسم غض نظر فوز خساره هناك انتصار مصاحب اخطاء مميت ساعد عدم تحقيق بطولة نور مثل كم مشكلة اشكالي تسبب موسم خسر اتحاد كثير بطولة محليه خارجيه استفاد خبرة ادار انديه اوربيه ياباني']\n"
     ]
    }
   ],
   "source": [
    "print(text[:10])"
   ]
  },
  {
   "cell_type": "code",
   "execution_count": 4,
   "metadata": {},
   "outputs": [],
   "source": [
    "from sklearn.feature_extraction.text import CountVectorizer\n",
    "\n",
    "\n",
    "count_vect = CountVectorizer()\n",
    "counts = count_vect.fit_transform(text)"
   ]
  },
  {
   "cell_type": "code",
   "execution_count": 5,
   "metadata": {},
   "outputs": [],
   "source": [
    "from sklearn.feature_extraction.text import TfidfTransformer\n",
    "\n",
    "transformer = TfidfTransformer().fit(counts)\n",
    "\n",
    "counts = transformer.transform(counts)"
   ]
  },
  {
   "cell_type": "code",
   "execution_count": 6,
   "metadata": {},
   "outputs": [],
   "source": [
    "from sklearn.model_selection import train_test_split\n",
    "#X_train, X_test, y_train, y_test = train_test_split(data['Arabic_Tweets_Cleaned'], data['label'],test_size=0.2, shuffle = True, random_state=42)\n",
    "X_train, X_test, y_train, y_test = train_test_split(counts,target,test_size=0.2, shuffle = True,  random_state=69)\n"
   ]
  },
  {
   "cell_type": "code",
   "execution_count": 4,
   "metadata": {},
   "outputs": [
    {
     "data": {
      "text/plain": [
       "(4, 3)"
      ]
     },
     "execution_count": 4,
     "metadata": {},
     "output_type": "execute_result"
    }
   ],
   "source": [
    "#from sklearn.feature_extraction.text import CountVectorizer\n",
    "#count_vect = CountVectorizer()\n",
    "#X_train_counts = count_vect.fit_transform(X_train)\n",
    "#X_train_counts.shape\n"
   ]
  },
  {
   "cell_type": "code",
   "execution_count": 5,
   "metadata": {},
   "outputs": [],
   "source": [
    "#count_vect.vocabulary_.get(u'اكثر')\n"
   ]
  },
  {
   "cell_type": "code",
   "execution_count": 8,
   "metadata": {},
   "outputs": [],
   "source": [
    "#from sklearn.feature_extraction.text import TfidfTransformer\n",
    "#tf_transformer = TfidfTransformer(use_idf=False).fit(X_train_counts)\n",
    "#X_train_tf = tf_transformer.transform(X_train_counts)\n",
    "#X_train_tf.shape"
   ]
  },
  {
   "cell_type": "code",
   "execution_count": 7,
   "metadata": {},
   "outputs": [],
   "source": [
    "#tfidf_transformer = TfidfTransformer()\n",
    "#X_train_tfidf = tfidf_transformer.fit_transform(X_train_counts)\n",
    "#X_train_tfidf.shape"
   ]
  },
  {
   "cell_type": "code",
   "execution_count": 9,
   "metadata": {},
   "outputs": [],
   "source": [
    "from sklearn.naive_bayes import MultinomialNB\n",
    "clf = MultinomialNB().fit(X_train, y_train)"
   ]
  },
  {
   "cell_type": "code",
   "execution_count": 10,
   "metadata": {},
   "outputs": [
    {
     "name": "stdout",
     "output_type": "stream",
     "text": [
      "Accuracy with Multinomial Naive Bayes: 58.376569\n"
     ]
    }
   ],
   "source": [
    "import numpy as np\n",
    "from sklearn.metrics import accuracy_score\n",
    "predicted = clf.predict(X_test)\n",
    "\n",
    "precision = accuracy_score(predicted, y_test) * 100\n",
    "print(\"Accuracy with Multinomial Naive Bayes: {0:.6f}\".format(precision))"
   ]
  },
  {
   "cell_type": "code",
   "execution_count": 11,
   "metadata": {},
   "outputs": [
    {
     "name": "stdout",
     "output_type": "stream",
     "text": [
      "[[   0    0    0  705]\n",
      " [   0    0    0 1159]\n",
      " [   0    0    0  620]\n",
      " [   0    3    0 3488]]\n"
     ]
    }
   ],
   "source": [
    "from sklearn.metrics import confusion_matrix\n",
    "\n",
    "print(confusion_matrix(y_test, predicted))"
   ]
  },
  {
   "cell_type": "code",
   "execution_count": 12,
   "metadata": {},
   "outputs": [
    {
     "name": "stderr",
     "output_type": "stream",
     "text": [
      "C:\\Users\\Salma\\Anaconda3\\lib\\site-packages\\sklearn\\svm\\base.py:193: FutureWarning: The default value of gamma will change from 'auto' to 'scale' in version 0.22 to account better for unscaled features. Set gamma explicitly to 'auto' or 'scale' to avoid this warning.\n",
      "  \"avoid this warning.\", FutureWarning)\n"
     ]
    }
   ],
   "source": [
    "from sklearn import svm\n",
    "svm_clf = svm.SVC()\n",
    "svm_clf = svm_clf.fit(X_train, y_train)"
   ]
  },
  {
   "cell_type": "code",
   "execution_count": 13,
   "metadata": {},
   "outputs": [],
   "source": [
    "test_predictions = svm_clf.predict(X_test)"
   ]
  },
  {
   "cell_type": "code",
   "execution_count": 13,
   "metadata": {},
   "outputs": [
    {
     "name": "stdout",
     "output_type": "stream",
     "text": [
      "Accuracy with SVM: 58.402142\n"
     ]
    }
   ],
   "source": [
    "precision = accuracy_score(test_predictions, y_test) * 100\n",
    "print(\"Accuracy with SVM: {0:.6f}\".format(precision))"
   ]
  },
  {
   "cell_type": "code",
   "execution_count": null,
   "metadata": {},
   "outputs": [],
   "source": []
  },
  {
   "cell_type": "code",
   "execution_count": null,
   "metadata": {},
   "outputs": [],
   "source": []
  },
  {
   "cell_type": "code",
   "execution_count": 31,
   "metadata": {},
   "outputs": [],
   "source": []
  }
 ],
 "metadata": {
  "kernelspec": {
   "display_name": "Python 3",
   "language": "python",
   "name": "python3"
  },
  "language_info": {
   "codemirror_mode": {
    "name": "ipython",
    "version": 3
   },
   "file_extension": ".py",
   "mimetype": "text/x-python",
   "name": "python",
   "nbconvert_exporter": "python",
   "pygments_lexer": "ipython3",
   "version": "3.7.4"
  }
 },
 "nbformat": 4,
 "nbformat_minor": 2
}
